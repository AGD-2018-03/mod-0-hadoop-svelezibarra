{
 "cells": [
  {
   "cell_type": "markdown",
   "metadata": {},
   "source": [
    "**Recuerde no agregar o quitar celdas en este notebook, ni modificar su tipo. Si lo hace, el sistema automaticamente lo calificará con cero punto cero (0.0)**"
   ]
  },
  {
   "cell_type": "markdown",
   "metadata": {},
   "source": [
    "Compute la suma y el promedio de la tercera columna por letra."
   ]
  },
  {
   "cell_type": "code",
   "execution_count": 1,
   "metadata": {},
   "outputs": [
    {
     "name": "stdout",
     "output_type": "stream",
     "text": [
      "Writing input.txt\n"
     ]
    }
   ],
   "source": [
    "%%writefile input.txt\n",
    "B   1999-08-28   14\n",
    "E   1999-12-06   12\n",
    "E   1993-07-21   17\n",
    "C   1991-02-12   13\n",
    "E   1995-04-25   16\n",
    "A   1992-08-22   14\n",
    "B   1999-06-11   12\n",
    "E   1993-01-27   13\n",
    "E   1999-09-10   11\n",
    "E   1990-05-03   16\n",
    "E   1994-02-14   10\n",
    "A   1988-04-27   12\n",
    "A   1990-10-06   10\n",
    "E   1985-02-12   16\n",
    "E   1998-09-14   16\n",
    "B   1994-08-30   17\n",
    "A   1997-12-15   13\n",
    "B   1995-08-23   10\n",
    "B   1998-11-22   13\n",
    "B   1997-04-09   14\n",
    "E   1993-12-27   18\n",
    "E   1999-01-14   15\n",
    "A   1992-09-19   18\n",
    "B   1993-03-02   14\n",
    "B   1999-10-21   13\n",
    "A   1990-08-31   12\n",
    "C   1994-01-25   10\n",
    "E   1990-02-09   18\n",
    "A   1990-09-26   14\n",
    "A   1993-05-08   16\n",
    "B   1995-09-06   14\n",
    "E   1991-02-18   14\n",
    "A   1993-01-11   14\n",
    "A   1990-07-22   18\n",
    "C   1994-09-09   15\n",
    "C   1994-07-27   10\n",
    "D   1990-10-10   15\n",
    "A   1990-09-05   11\n",
    "B   1991-10-01   15\n",
    "A   1994-10-25   13"
   ]
  },
  {
   "cell_type": "markdown",
   "metadata": {},
   "source": [
    "## Mapper"
   ]
  },
  {
   "cell_type": "code",
   "execution_count": 2,
   "metadata": {},
   "outputs": [
    {
     "name": "stdout",
     "output_type": "stream",
     "text": [
      "Writing mapper.py\n"
     ]
    }
   ],
   "source": [
    "%%writefile mapper.py\n",
    "#! /usr/bin/env python\n",
    "\n",
    "import sys\n",
    "\n",
    "##\n",
    "## Se usa una clase iterable para implementar el mapper.\n",
    "##\n",
    "\n",
    "class Mapper:\n",
    "    \n",
    "    def __init__(self, stream):\n",
    "        ## \n",
    "        ## almacena el flujo de entrada como una\n",
    "        ## variable del objeto\n",
    "        ##\n",
    "        self.stream = stream\n",
    "    \n",
    "    def emit(self, key, value):\n",
    "        ##\n",
    "        ## escribe al flujo estándar de salida\n",
    "        ##\n",
    "        sys.stdout.write(\"{}\\t{}\\n\".format(key, value))\n",
    "        \n",
    "        \n",
    "    def status(self, message):\n",
    "        ##\n",
    "        ## imprime un reporte en el flujo de error\n",
    "        ## no se debe usar el stdout, ya que en este \n",
    "        ## unicamente deben ir las parejas (key, value)\n",
    "        ##\n",
    "        sys.stderr.write('reporter:status:{}\\n'.format(message))\n",
    "\n",
    "        \n",
    "    def counter(self, counter, amount=1, group=\"ApplicationCounter\"):\n",
    "        ## \n",
    "        ## imprime el valor del contador\n",
    "        ##\n",
    "        sys.stderr.write('reporter:counter:{},{},{}\\n'.format(group, counter, amount))\n",
    "        \n",
    "    def map(self):\n",
    "\n",
    "        #word_counter = 0\n",
    "        \n",
    "        for word in self:\n",
    "            \n",
    "            ##\n",
    "            ## imprime un mensaje indicando la palabra procesada\n",
    "            ##\n",
    "            self.status('procesando ' + word[0])\n",
    "            \n",
    "            ##\n",
    "            ## cuenta la cantidad de palabras procesadas\n",
    "            ##\n",
    "            \n",
    "            self.counter('num_words', amount=float(word[1]))\n",
    "\n",
    "            ##\n",
    "            ## por cada palabra del flujo de datos\n",
    "            ## emite la pareja (word, 1)\n",
    "            ##\n",
    "            self.emit(key=word[0], value=float(word[1]))\n",
    "            \n",
    "    def __iter__(self):\n",
    "        ##\n",
    "        ## itera sobre cada linea de código recibida\n",
    "        ## a través del flujo de entrada\n",
    "        ##\n",
    "        for line in self.stream:\n",
    "            ##\n",
    "            ## itera sobre cada palabra de la línea\n",
    "            ## (en los ciclos for, retorna las palabras\n",
    "            ## una a una)\n",
    "            ##\n",
    "            \n",
    "            yield line.split()[0], float(line.split()[2])\n",
    "           \n",
    "                ##\n",
    "                ## retorna la palabra siguiente en el\n",
    "                ## ciclo for\n",
    "                ##                \n",
    "             #   yield word\n",
    "\n",
    "\n",
    "\n",
    "if __name__ == \"__main__\": \n",
    "    mapper = Mapper(sys.stdin)\n",
    "    \n",
    "    ##\n",
    "    ## ejecuta el mapper\n",
    "    ##\n",
    "    mapper.map()\n",
    "    pass"
   ]
  },
  {
   "cell_type": "markdown",
   "metadata": {},
   "source": [
    "## Reducer"
   ]
  },
  {
   "cell_type": "code",
   "execution_count": 3,
   "metadata": {},
   "outputs": [
    {
     "name": "stdout",
     "output_type": "stream",
     "text": [
      "Writing reducer.py\n"
     ]
    }
   ],
   "source": [
    "%%writefile reducer.py\n",
    "#!/usr/bin/env python\n",
    "\n",
    "import sys\n",
    "import itertools\n",
    "\n",
    "class Reducer:\n",
    "    \n",
    "    def __init__(self, stream):\n",
    "        self.stream = stream\n",
    "        \n",
    "    def emit(self, key, suma, prom):\n",
    "        sys.stdout.write(\"{}\\t{}\\t{}\\n\".format(key, suma, prom)) \n",
    "\n",
    "    def reduce(self):\n",
    "        ##\n",
    "        ## Esta función reduce los elementos que \n",
    "        ## tienen la misma clave\n",
    "        ##        \n",
    "        for key, group in itertools.groupby(self, lambda x: x[0]):\n",
    "        \n",
    "            valores = [val for _, val in group]\n",
    "            suma,prom = sum(valores), (sum(valores)/len(valores))\n",
    "            \n",
    "            self.emit(key=key, suma=suma, prom=prom)\n",
    "\n",
    "    def __iter__(self):\n",
    "        \n",
    "        for line in self.stream:\n",
    "            ##\n",
    "            ## Lee el stream de datos y lo parte \n",
    "            ## en (clave, valor)\n",
    "            ##\n",
    "            key, val = line.split(\"\\t\") \n",
    "            val = float(val)\n",
    "            \n",
    "            ##\n",
    "            ## retorna la tupla (clave, valor)\n",
    "            ## como el siguiente elemento del ciclo for\n",
    "            ##\n",
    "            yield (key, val)\n",
    "\n",
    "if __name__ == '__main__': \n",
    "    reducer = Reducer(sys.stdin)\n",
    "    reducer.reduce()\n",
    "    pass"
   ]
  },
  {
   "cell_type": "markdown",
   "metadata": {},
   "source": [
    "## Ejecución"
   ]
  },
  {
   "cell_type": "code",
   "execution_count": 4,
   "metadata": {},
   "outputs": [
    {
     "name": "stdout",
     "output_type": "stream",
     "text": [
      "A\t165.0\t13.75\n",
      "B\t136.0\t13.6\n",
      "C\t48.0\t12.0\n",
      "D\t15.0\t15.0\n",
      "E\t192.0\t14.76923076923077\n"
     ]
    }
   ],
   "source": [
    "%%bash\n",
    "rm -rf output\n",
    "STREAM=$HADOOP_HOME/share/hadoop/tools/lib/hadoop-streaming-*.jar\n",
    "chmod +x mapper.py\n",
    "chmod +x reducer.py\n",
    "hadoop jar $STREAM -input input.txt -output output  -mapper mapper.py -reducer reducer.py\n",
    "cat output/part-00000"
   ]
  },
  {
   "cell_type": "code",
   "execution_count": 5,
   "metadata": {},
   "outputs": [],
   "source": [
    "!rm -rf mapper.py reducer.py output input.txt"
   ]
  },
  {
   "cell_type": "markdown",
   "metadata": {},
   "source": [
    "---"
   ]
  },
  {
   "cell_type": "markdown",
   "metadata": {},
   "source": [
    "Para realizar la evaluación automática de este libro:\n",
    "\n",
    "* Abra un Terminal.\n",
    "* Asegurece que esat en la misma carpeta que contiene este notebook.\n",
    "* Salve el notebook.\n",
    "* Ejecute el siguiente comando:\n",
    "\n",
    "      ./gradetool 09-Taller.ipynb"
   ]
  },
  {
   "cell_type": "markdown",
   "metadata": {},
   "source": [
    "---"
   ]
  }
 ],
 "metadata": {
  "kernelspec": {
   "display_name": "Python 3",
   "language": "python",
   "name": "python3"
  },
  "language_info": {
   "codemirror_mode": {
    "name": "ipython",
    "version": 3
   },
   "file_extension": ".py",
   "mimetype": "text/x-python",
   "name": "python",
   "nbconvert_exporter": "python",
   "pygments_lexer": "ipython3",
   "version": "3.6.5"
  },
  "toc": {
   "base_numbering": 1,
   "nav_menu": {},
   "number_sections": false,
   "sideBar": true,
   "skip_h1_title": true,
   "title_cell": "Table of Contents",
   "title_sidebar": "Contents",
   "toc_cell": false,
   "toc_position": {},
   "toc_section_display": true,
   "toc_window_display": true
  },
  "toc-autonumbering": false
 },
 "nbformat": 4,
 "nbformat_minor": 2
}
